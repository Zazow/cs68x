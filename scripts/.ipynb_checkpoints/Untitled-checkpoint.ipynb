{
 "cells": [
  {
   "cell_type": "code",
   "execution_count": 13,
   "metadata": {},
   "outputs": [],
   "source": [
    "import nlopt\n",
    "import numpy as np \n",
    "from scipy.spatial.transform import Rotation as R"
   ]
  },
  {
   "cell_type": "code",
   "execution_count": 26,
   "metadata": {},
   "outputs": [],
   "source": [
    "'''\n",
    "These are default values for the projection function. In the future, these will be setup by the engine once at\n",
    "the start so the projection parameters the engine uses will match these.\n",
    "'''\n",
    "\n",
    "SizeX = 1212\n",
    "SizeY = 476\n",
    "\n",
    "ProjectionMatrix = np.array([\n",
    "    [1, 0,          0,  0],\n",
    "    [0, 2.54621840, 0,  0],\n",
    "    [0, 0,          0,  1],\n",
    "    [0, 0,          10, 0]\n",
    "])\n",
    "\n",
    "#This is Unreal's identity rotation for some reason...\n",
    "ForwardStartingQuat = [ 0.5, 0.5, 0.5, 0.5 ]\n",
    "\n",
    "#This is the starting camera position for the CloserObject experiment \n",
    "#(I'm using this to compare the outputs of my functions with Unreal's)\n",
    "CameraPosition = [-741, 0, 0]\n"
   ]
  },
  {
   "cell_type": "code",
   "execution_count": 27,
   "metadata": {},
   "outputs": [],
   "source": [
    "def GetTranslationMatrix(Position):\n",
    "    return np.array([\n",
    "        [1,             0,           0,           0],\n",
    "        [0,             1,           0,           0],\n",
    "        [0,             0,           1,           0],\n",
    "        [-Position[0], -Position[1], Position[2] ,1]\n",
    "    ])"
   ]
  },
  {
   "cell_type": "code",
   "execution_count": 36,
   "metadata": {},
   "outputs": [],
   "source": [
    "'''\n",
    "This is a helper function that will provide a rotation matrix from a quaternion\n",
    "example input: [0, 0, np.sin(np.pi/4), np.cos(np.pi/4)]\n",
    "'''\n",
    "def GetRotationMatrixFromQuat(Quat):\n",
    "    r = R.from_quat(Quat).as_dcm()\n",
    "    mat = np.array([\n",
    "        [r[0][0], r[0][1], r[0][2], 0],\n",
    "        [r[1][0], r[1][1], r[1][2], 0],\n",
    "        [r[2][0], r[2][1], r[2][2], 0],\n",
    "        [0      , 0      , 0      , 1]\n",
    "    ])\n",
    "    return mat"
   ]
  },
  {
   "cell_type": "code",
   "execution_count": 32,
   "metadata": {},
   "outputs": [],
   "source": [
    "def ProjectWorldLocationToScreen(WorldLocation):\n",
    "    # This is the final projection matrix that encodes the position, rotation, and projection of the camera \n",
    "    TranslationMatrix = GetTranslationMatrix(CameraPosition)\n",
    "    ViewProjectionMatrix = TranslationMatrix.dot(GetRotationMatrixFromQuat(ForwardStartingQuat)).dot(ProjectionMatrix)\n",
    "    return ViewProjectionMatrix\n",
    "    "
   ]
  },
  {
   "cell_type": "code",
   "execution_count": 8,
   "metadata": {},
   "outputs": [],
   "source": [
    "'''\n",
    "What defines the output of this function (given the projection matrix, and points in 3d space) is\n",
    "the cameras position: ViewOriging, and its rotation: ViewRotationMatrix. I want to create this function first\n",
    "and compare its results with Unreal's results as a sanity check.\n",
    "'''\n",
    "\n",
    "def GetDistanceSum(ViewOrigin, ViewRotationMatrix):\n",
    "    pass"
   ]
  },
  {
   "cell_type": "code",
   "execution_count": 9,
   "metadata": {},
   "outputs": [],
   "source": [
    "'''\n",
    "This is the function that I will optimize as an excersice once I get the previous functions to\n",
    "work flawlessly.\n",
    "'''\n",
    "def GetDistanceSumNoRot(ViewOrigin):\n",
    "    pass"
   ]
  },
  {
   "cell_type": "code",
   "execution_count": 33,
   "metadata": {},
   "outputs": [
    {
     "ename": "ValueError",
     "evalue": "shapes (4,4) and (3,3) not aligned: 4 (dim 1) != 3 (dim 0)",
     "output_type": "error",
     "traceback": [
      "\u001b[1;31m---------------------------------------------------------------------------\u001b[0m",
      "\u001b[1;31mValueError\u001b[0m                                Traceback (most recent call last)",
      "\u001b[1;32m<ipython-input-33-d279aefe1a2c>\u001b[0m in \u001b[0;36m<module>\u001b[1;34m\u001b[0m\n\u001b[1;32m----> 1\u001b[1;33m \u001b[0mProjectWorldLocationToScreen\u001b[0m\u001b[1;33m(\u001b[0m\u001b[1;33m[\u001b[0m\u001b[1;33m]\u001b[0m\u001b[1;33m)\u001b[0m\u001b[1;33m\u001b[0m\u001b[1;33m\u001b[0m\u001b[0m\n\u001b[0m",
      "\u001b[1;32m<ipython-input-32-f24bd31e88a3>\u001b[0m in \u001b[0;36mProjectWorldLocationToScreen\u001b[1;34m(WorldLocation)\u001b[0m\n\u001b[0;32m      2\u001b[0m     \u001b[1;31m# This is the final projection matrix that encodes the position, rotation, and projection of the camera\u001b[0m\u001b[1;33m\u001b[0m\u001b[1;33m\u001b[0m\u001b[1;33m\u001b[0m\u001b[0m\n\u001b[0;32m      3\u001b[0m     \u001b[0mTranslationMatrix\u001b[0m \u001b[1;33m=\u001b[0m \u001b[0mGetTranslationMatrix\u001b[0m\u001b[1;33m(\u001b[0m\u001b[0mCameraPosition\u001b[0m\u001b[1;33m)\u001b[0m\u001b[1;33m\u001b[0m\u001b[1;33m\u001b[0m\u001b[0m\n\u001b[1;32m----> 4\u001b[1;33m     \u001b[0mViewProjectionMatrix\u001b[0m \u001b[1;33m=\u001b[0m \u001b[0mTranslationMatrix\u001b[0m\u001b[1;33m.\u001b[0m\u001b[0mdot\u001b[0m\u001b[1;33m(\u001b[0m\u001b[0mGetRotationMatrixFromQuat\u001b[0m\u001b[1;33m(\u001b[0m\u001b[0mForwardStartingQuat\u001b[0m\u001b[1;33m)\u001b[0m\u001b[1;33m)\u001b[0m\u001b[1;33m.\u001b[0m\u001b[0mdot\u001b[0m\u001b[1;33m(\u001b[0m\u001b[0mProjectionMatrix\u001b[0m\u001b[1;33m)\u001b[0m\u001b[1;33m\u001b[0m\u001b[1;33m\u001b[0m\u001b[0m\n\u001b[0m\u001b[0;32m      5\u001b[0m     \u001b[1;32mreturn\u001b[0m \u001b[0mViewProjectionMatrix\u001b[0m\u001b[1;33m\u001b[0m\u001b[1;33m\u001b[0m\u001b[0m\n\u001b[0;32m      6\u001b[0m \u001b[1;33m\u001b[0m\u001b[0m\n",
      "\u001b[1;31mValueError\u001b[0m: shapes (4,4) and (3,3) not aligned: 4 (dim 1) != 3 (dim 0)"
     ]
    }
   ],
   "source": [
    "ProjectWorldLocationToScreen([])"
   ]
  },
  {
   "cell_type": "code",
   "execution_count": 37,
   "metadata": {},
   "outputs": [
    {
     "ename": "IndexError",
     "evalue": "list index out of range",
     "output_type": "error",
     "traceback": [
      "\u001b[1;31m---------------------------------------------------------------------------\u001b[0m",
      "\u001b[1;31mIndexError\u001b[0m                                Traceback (most recent call last)",
      "\u001b[1;32m<ipython-input-37-a876504bd2cc>\u001b[0m in \u001b[0;36m<module>\u001b[1;34m\u001b[0m\n\u001b[1;32m----> 1\u001b[1;33m \u001b[0mGetRotationMatrixFromQuat\u001b[0m\u001b[1;33m(\u001b[0m\u001b[0mForwardStartingQuat\u001b[0m\u001b[1;33m)\u001b[0m\u001b[1;33m\u001b[0m\u001b[1;33m\u001b[0m\u001b[0m\n\u001b[0m",
      "\u001b[1;32m<ipython-input-36-4d83962dfc0d>\u001b[0m in \u001b[0;36mGetRotationMatrixFromQuat\u001b[1;34m(Quat)\u001b[0m\n\u001b[0;32m      6\u001b[0m     \u001b[0mr\u001b[0m \u001b[1;33m=\u001b[0m \u001b[0mR\u001b[0m\u001b[1;33m.\u001b[0m\u001b[0mfrom_quat\u001b[0m\u001b[1;33m(\u001b[0m\u001b[0mQuat\u001b[0m\u001b[1;33m)\u001b[0m\u001b[1;33m.\u001b[0m\u001b[0mas_dcm\u001b[0m\u001b[1;33m(\u001b[0m\u001b[1;33m)\u001b[0m\u001b[1;33m\u001b[0m\u001b[1;33m\u001b[0m\u001b[0m\n\u001b[0;32m      7\u001b[0m     mat = np.array([\n\u001b[1;32m----> 8\u001b[1;33m         \u001b[1;33m[\u001b[0m\u001b[0mr\u001b[0m\u001b[1;33m[\u001b[0m\u001b[1;36m0\u001b[0m\u001b[1;33m]\u001b[0m\u001b[1;33m[\u001b[0m\u001b[1;36m0\u001b[0m\u001b[1;33m]\u001b[0m\u001b[1;33m,\u001b[0m \u001b[1;33m[\u001b[0m\u001b[1;36m0\u001b[0m\u001b[1;33m]\u001b[0m\u001b[1;33m[\u001b[0m\u001b[1;36m1\u001b[0m\u001b[1;33m]\u001b[0m\u001b[1;33m,\u001b[0m \u001b[1;33m[\u001b[0m\u001b[1;36m0\u001b[0m\u001b[1;33m]\u001b[0m\u001b[1;33m[\u001b[0m\u001b[1;36m2\u001b[0m\u001b[1;33m]\u001b[0m\u001b[1;33m,\u001b[0m \u001b[1;36m0\u001b[0m\u001b[1;33m]\u001b[0m\u001b[1;33m,\u001b[0m\u001b[1;33m\u001b[0m\u001b[1;33m\u001b[0m\u001b[0m\n\u001b[0m\u001b[0;32m      9\u001b[0m         \u001b[1;33m[\u001b[0m\u001b[0mr\u001b[0m\u001b[1;33m[\u001b[0m\u001b[1;36m1\u001b[0m\u001b[1;33m]\u001b[0m\u001b[1;33m[\u001b[0m\u001b[1;36m0\u001b[0m\u001b[1;33m]\u001b[0m\u001b[1;33m,\u001b[0m \u001b[1;33m[\u001b[0m\u001b[1;36m1\u001b[0m\u001b[1;33m]\u001b[0m\u001b[1;33m[\u001b[0m\u001b[1;36m1\u001b[0m\u001b[1;33m]\u001b[0m\u001b[1;33m,\u001b[0m \u001b[1;33m[\u001b[0m\u001b[1;36m1\u001b[0m\u001b[1;33m]\u001b[0m\u001b[1;33m[\u001b[0m\u001b[1;36m2\u001b[0m\u001b[1;33m]\u001b[0m\u001b[1;33m,\u001b[0m \u001b[1;36m0\u001b[0m\u001b[1;33m]\u001b[0m\u001b[1;33m,\u001b[0m\u001b[1;33m\u001b[0m\u001b[1;33m\u001b[0m\u001b[0m\n\u001b[0;32m     10\u001b[0m         \u001b[1;33m[\u001b[0m\u001b[0mr\u001b[0m\u001b[1;33m[\u001b[0m\u001b[1;36m2\u001b[0m\u001b[1;33m]\u001b[0m\u001b[1;33m[\u001b[0m\u001b[1;36m0\u001b[0m\u001b[1;33m]\u001b[0m\u001b[1;33m,\u001b[0m \u001b[1;33m[\u001b[0m\u001b[1;36m2\u001b[0m\u001b[1;33m]\u001b[0m\u001b[1;33m[\u001b[0m\u001b[1;36m1\u001b[0m\u001b[1;33m]\u001b[0m\u001b[1;33m,\u001b[0m \u001b[1;33m[\u001b[0m\u001b[1;36m2\u001b[0m\u001b[1;33m]\u001b[0m\u001b[1;33m[\u001b[0m\u001b[1;36m2\u001b[0m\u001b[1;33m]\u001b[0m\u001b[1;33m,\u001b[0m \u001b[1;36m0\u001b[0m\u001b[1;33m]\u001b[0m\u001b[1;33m,\u001b[0m\u001b[1;33m\u001b[0m\u001b[1;33m\u001b[0m\u001b[0m\n",
      "\u001b[1;31mIndexError\u001b[0m: list index out of range"
     ]
    }
   ],
   "source": [
    "GetRotationMatrixFromQuat(ForwardStartingQuat)"
   ]
  },
  {
   "cell_type": "code",
   "execution_count": null,
   "metadata": {},
   "outputs": [],
   "source": []
  }
 ],
 "metadata": {
  "kernelspec": {
   "display_name": "Python 3",
   "language": "python",
   "name": "python3"
  },
  "language_info": {
   "codemirror_mode": {
    "name": "ipython",
    "version": 3
   },
   "file_extension": ".py",
   "mimetype": "text/x-python",
   "name": "python",
   "nbconvert_exporter": "python",
   "pygments_lexer": "ipython3",
   "version": "3.7.5"
  }
 },
 "nbformat": 4,
 "nbformat_minor": 2
}
