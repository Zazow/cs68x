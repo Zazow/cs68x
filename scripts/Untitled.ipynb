{
 "cells": [
  {
   "cell_type": "code",
   "execution_count": 1,
   "metadata": {},
   "outputs": [],
   "source": [
    "import nlopt\n",
    "import numpy as np \n",
    "from scipy.spatial.transform import Rotation as R\n",
    "import math\n",
    "import pandas as pd\n",
    "import plotly.express as px\n",
    "import quaternion\n",
    "import matplotlib.pyplot as plt"
   ]
  },
  {
   "cell_type": "code",
   "execution_count": 2,
   "metadata": {},
   "outputs": [],
   "source": [
    "'''\n",
    "These are default values for the projection function. In the future, these will be setup by the engine once at\n",
    "the start so the projection parameters the engine uses will match these.\n",
    "'''\n",
    "\n",
    "SizeX = 1066\n",
    "SizeY = 496\n",
    "\n",
    "testP = 2.69191909\n",
    "ProjectionMatrix = np.array([\n",
    "    [1, 0,          0,  0],\n",
    "    [0, 2.69191909, 0,  0],\n",
    "    [0, 0,          0,  1],\n",
    "    [0, 0,          10, 0]\n",
    "])\n",
    "\n",
    "#For some reason, unreal multiplies the camera's quaternion with this quaternion to get the view rotation matrix...\n",
    "UnrealsModifierQuat = np.quaternion(0.5, -0.5, 0.5, -0.5)\n",
    "\n",
    "ForwardStartingQuat = UnrealsModifierQuat*np.quaternion(0.298836, -0.298836, 0.640856, 0.640856)\n"
   ]
  },
  {
   "cell_type": "code",
   "execution_count": 25,
   "metadata": {},
   "outputs": [
    {
     "data": {
      "text/plain": [
       "quaternion(0.707106781186548, 0, 0, 0.707106781186548)"
      ]
     },
     "execution_count": 25,
     "metadata": {},
     "output_type": "execute_result"
    }
   ],
   "source": [
    "#Convert vector to rotator\n",
    "\n",
    "def RotFromVec(vec):\n",
    "    #print(vec)\n",
    "    y = math.atan2(vec[1], vec[0]) \n",
    "    p = math.atan2(vec[2], math.sqrt(vec[0]**2 + vec[1]**2)) \n",
    "    r = 0\n",
    "    return [p, y, r]\n",
    "\n",
    "\n",
    "#convert rotator to quaternion:\n",
    "# phi: roll: r\n",
    "# theta: pitch: p\n",
    "# psi: yaw: y\n",
    "def QuatFromRot(rot):\n",
    "    #print(rot)\n",
    "    p = rot[0]\n",
    "    y = rot[1]\n",
    "    r = rot[2]\n",
    "    quat = np.quaternion(\n",
    "        math.cos(y/2.0)*math.cos(p/2.0)*math.sin(r/2.0) - math.sin(y/2.0)*math.sin(p/2.0)*math.cos(r/2.0),\n",
    "        math.sin(y/2.0)*math.cos(p/2.0)*math.sin(r/2.0) + math.cos(y/2.0)*math.sin(p/2.0)*math.cos(r/2.0),\n",
    "        math.sin(y/2.0)*math.cos(p/2.0)*math.cos(r/2.0) - math.cos(y/2.0)*math.sin(p/2.0)*math.sin(r/2.0),\n",
    "        math.cos(y/2.0)*math.cos(p/2.0)*math.cos(r/2.0) + math.sin(y/2.0)*math.sin(p/2.0)*math.sin(r/2.0),\n",
    "    )\n",
    "    return quat\n",
    "\n",
    "\n",
    "UnrealsModifierQuat*QuatFromRot([0, -90*math.pi/180, 0])\n",
    "#[ 0.7071068, 0, 0, 0.7071068 ]"
   ]
  },
  {
   "cell_type": "code",
   "execution_count": 4,
   "metadata": {},
   "outputs": [
    {
     "name": "stdout",
     "output_type": "stream",
     "text": [
      "quaternion(0.0280890303976772, 0.648852383294333, 0.759684169887187, 0.0328869744336219)\n",
      "[570.0, -89.5306274, 7.6]\n"
     ]
    }
   ],
   "source": [
    "'''\n",
    "These varaibles might change between engine calls\n",
    "'''\n",
    "\n",
    "\n",
    "#This is the starting camera position for the CloserObject experiment \n",
    "#(I'm using this to compare the outputs of my functions with Unreal's)\n",
    "#For some reason, the z axis is must be inverted\n",
    "CameraPosition = [465, -1300, 200]\n",
    "Points = [\n",
    "    [462, -310, 19],\n",
    "    [1000.0, -234.653137, -100],\n",
    "    [462, -56, 81],\n",
    "    [413, -67, 19],\n",
    "    [513, 220, 19]\n",
    "]\n",
    "\n",
    "PointsColors = [\"red\", \"green\", \"black\", \"blue\", \"yellow\"]\n",
    "\n",
    "PointsCenter = [0, 0, 0]\n",
    "for i in range(len(Points)):\n",
    "    PointsCenter[0] += Points[i][0]\n",
    "    PointsCenter[1] += Points[i][1]\n",
    "    PointsCenter[2] += Points[i][2]\n",
    "\n",
    "PointsCenter[0] = PointsCenter[0]/len(Points)\n",
    "PointsCenter[1] = PointsCenter[1]/len(Points)\n",
    "PointsCenter[2] = PointsCenter[2]/len(Points)\n",
    "\n",
    "rot = RotFromVec([PointsCenter[0] - CameraPosition[0], PointsCenter[1] - CameraPosition[1], PointsCenter[2] - CameraPosition[2]])\n",
    "CenterLookingQuat = UnrealsModifierQuat*QuatFromRot(rot)\n",
    "\n",
    "#CenterLookingQuat = np.quaternion(0, 0.7071068, 0.7071068, 0)\n",
    "\n",
    "print(CenterLookingQuat)\n",
    "print (PointsCenter)\n"
   ]
  },
  {
   "cell_type": "code",
   "execution_count": 5,
   "metadata": {},
   "outputs": [],
   "source": [
    "def GetTranslationMatrix(Position):\n",
    "    return np.array([\n",
    "        [1,             0,           0,           0],\n",
    "        [0,             1,           0,           0],\n",
    "        [0,             0,           1,           0],\n",
    "        [-Position[0], -Position[1], Position[2] ,1]\n",
    "    ])"
   ]
  },
  {
   "cell_type": "code",
   "execution_count": 26,
   "metadata": {},
   "outputs": [],
   "source": [
    "'''\n",
    "This is a helper function that will provide a rotation matrix from a quaternion\n",
    "example input: [0, 0, np.sin(np.pi/4), np.cos(np.pi/4)]\n",
    "'''\n",
    "def GetRotationMatrixFromQuat(q):\n",
    "    #print(q)\n",
    "    r = R.from_quat([q.w, q.x, q.y, q.z]).as_dcm()\n",
    "    mat = np.array([\n",
    "        [r[0][0], r[0][1], r[0][2], 0],\n",
    "        [r[1][0], r[1][1], r[1][2], 0],\n",
    "        [r[2][0], r[2][1], r[2][2], 0],\n",
    "        [0      , 0      , 0      , 1]\n",
    "    ])\n",
    "    return mat"
   ]
  },
  {
   "cell_type": "code",
   "execution_count": 7,
   "metadata": {},
   "outputs": [],
   "source": [
    "def ProjectWorldLocationToScreen(WorldLocation, ViewOrigin, ViewQuat):\n",
    "    #print(WorldLocation)\n",
    "    WorldLocation = np.array([WorldLocation[0], WorldLocation[1], WorldLocation[2], 1])\n",
    "    TranslationMatrix = GetTranslationMatrix(ViewOrigin)\n",
    "    # This is the final matrix that encodes the position, rotation, and projection of the camera \n",
    "    ViewProjectionMatrix = TranslationMatrix.dot(GetRotationMatrixFromQuat(ViewQuat)).dot(ProjectionMatrix)\n",
    "    #print(ViewProjectionMatrix)\n",
    "    Pos = WorldLocation.dot(ViewProjectionMatrix)\n",
    "    #print(Pos)\n",
    "    if (Pos[3] > 0):\n",
    "        Pos = Pos/Pos[3]\n",
    "        NormalizedX = ((Pos[0]/2.0) + 0.5)\n",
    "        NormalizedY = (1.0 - (Pos[1]/2.0) - 0.5)\n",
    "        if (NormalizedX < 0 or NormalizedX > 1):\n",
    "            return False\n",
    "        if (NormalizedY < 0 or NormalizedY > 1):\n",
    "            return False\n",
    "        Pos = [NormalizedX*SizeX, NormalizedY*SizeY]\n",
    "        return Pos\n",
    "    else:\n",
    "        return False\n",
    "    "
   ]
  },
  {
   "cell_type": "code",
   "execution_count": 8,
   "metadata": {},
   "outputs": [],
   "source": [
    "def PlotPoints2D(Pos, Quat):\n",
    "    lostPoints = 0\n",
    "    for i in range(len(Points)):\n",
    "        p = ProjectWorldLocationToScreen(Points[i], Pos, Quat)\n",
    "        if (p):\n",
    "            print(p)\n",
    "            plt.scatter(p[0], p[1], c=PointsColors[i])\n",
    "        else:\n",
    "            lostPoints+=1\n",
    "    print(\"Lost %i points\" % lostPoints)\n",
    "    \n",
    "    plt.ylim(SizeY, 0)\n",
    "    plt.xlim(0, SizeX)\n",
    "    plt.show()    "
   ]
  },
  {
   "cell_type": "code",
   "execution_count": 9,
   "metadata": {},
   "outputs": [],
   "source": [
    "'''\n",
    "What defines the output of this function (given the projection matrix, and points in 3d space) is\n",
    "the cameras position: ViewOriging, and its rotation: ViewRotationMatrix. I want to create this function first\n",
    "and compare its results with Unreal's results as a sanity check.\n",
    "'''\n",
    "\n",
    "def GetDistanceSum(ViewOrigin, ViewRotationMatrix):\n",
    "    Sum = 0\n",
    "    for i in range(len(Points)):\n",
    "        ithPos = ProjectWorldLocationToScreen(Points[i])\n",
    "        for j in range(i, len(Points)):\n",
    "            #print(\"%i, %i:\" % (i, j))\n",
    "            jthPos = ProjectWorldLocationToScreen(Points[j])\n",
    "            Sum += math.sqrt((ithPos[0] - jthPos[0])**2 + (ithPos[1] - jthPos[1])**2)\n",
    "            #print(\"%f\" % Sum)\n",
    "            \n",
    "    return Sum"
   ]
  },
  {
   "cell_type": "code",
   "execution_count": 54,
   "metadata": {},
   "outputs": [],
   "source": [
    "def dist2D(p1, p2):\n",
    "    return math.sqrt((p1[0] - p2[0])**2 + (p1[1] - p2[1])**2)\n",
    "'''\n",
    "This is the function that I will optimize as an excersice once I get the previous functions to\n",
    "work flawlessly.\n",
    "'''\n",
    "\n",
    "pointInroductionReward = 100\n",
    "pointRemovalPunishment = -100\n",
    "\n",
    "OldPosition = CameraPosition\n",
    "\n",
    "def SumDifference(pos, grad):\n",
    "    Sum = 0\n",
    "    c = PointsCenter\n",
    "    rot = RotFromVec([c[0] - OldPosition[0], c[1] - OldPosition[1], c[2] - OldPosition[2]])\n",
    "    OldQuat = UnrealsModifierQuat*QuatFromRot(rot)\n",
    "    \n",
    "    for i in range(len(Points)):\n",
    "        oldPosI = ProjectWorldLocationToScreen(Points[i], OldPosition, OldQuat)\n",
    "        newPosI = ProjectWorldLocationToScreen(Points[i], pos, OldQuat)\n",
    "        if (newPosI):\n",
    "            for j in range(i, len(Points)):\n",
    "                oldPosJ = ProjectWorldLocationToScreen(Points[j], OldPosition, OldQuat)\n",
    "                newPosJ = ProjectWorldLocationToScreen(Points[j], pos, OldQuat)\n",
    "                if (newPosJ):\n",
    "                    Sum += abs(dist2D(oldPosI, oldPosJ) - dist2D(newPosI, newPosJ))\n",
    "        else:\n",
    "            pass\n",
    "            #print(\"cant see point %i\" % i)\n",
    "    return Sum\n",
    "\n",
    "def SumDifferenceWithOrientation(pos, grad):\n",
    "\n",
    "    Sum = 0\n",
    "    c = PointsCenter\n",
    "    \n",
    "    rot = RotFromVec([c[0] - OldPosition[0], c[1] - OldPosition[1], c[2] - OldPosition[2]])\n",
    "    if (rot[0] == np.NaN):\n",
    "        print(\"something went wrong\")\n",
    "        print(c)\n",
    "        print(pos)\n",
    "        print(rot)\n",
    "    OldQuat = UnrealsModifierQuat*QuatFromRot(rot)\n",
    "    \n",
    "    rot = RotFromVec([c[0] - pos[0], c[1] - pos[1], c[2] - pos[2]])\n",
    "    if (rot[0] == np.NaN):\n",
    "        print(\"something went wrong\")\n",
    "        print(c)\n",
    "        print(pos)\n",
    "        print(rot)\n",
    "    OrientationQuat = UnrealsModifierQuat*QuatFromRot(rot)\n",
    "    \n",
    "    \n",
    "    for i in range(len(Points)):\n",
    "        oldPosI = ProjectWorldLocationToScreen(Points[i], OldPosition, OldQuat)\n",
    "        newPosI = ProjectWorldLocationToScreen(Points[i], pos, OrientationQuat)\n",
    "        if (newPosI):\n",
    "            #print(newPosI)\n",
    "            for j in range(i, len(Points)):\n",
    "                oldPosJ = ProjectWorldLocationToScreen(Points[j], OldPosition, OldQuat)\n",
    "                newPosJ = ProjectWorldLocationToScreen(Points[j], pos, OrientationQuat)\n",
    "                if (newPosJ):\n",
    "                    Sum += abs(dist2D(oldPosI, oldPosJ) - dist2D(newPosI, newPosJ))\n",
    "        else:\n",
    "            #print('Point lost :(')\n",
    "            Sum -= 5000\n",
    "            \n",
    "    return Sum"
   ]
  },
  {
   "cell_type": "code",
   "execution_count": 11,
   "metadata": {},
   "outputs": [
    {
     "ename": "NameError",
     "evalue": "name 'y' is not defined",
     "output_type": "error",
     "traceback": [
      "\u001b[1;31m---------------------------------------------------------------------------\u001b[0m",
      "\u001b[1;31mNameError\u001b[0m                                 Traceback (most recent call last)",
      "\u001b[1;32m<ipython-input-11-f97059e7a7f7>\u001b[0m in \u001b[0;36m<module>\u001b[1;34m\u001b[0m\n\u001b[0;32m      1\u001b[0m \u001b[0mc\u001b[0m \u001b[1;33m=\u001b[0m \u001b[0mPointsCenter\u001b[0m\u001b[1;33m\u001b[0m\u001b[1;33m\u001b[0m\u001b[0m\n\u001b[1;32m----> 2\u001b[1;33m \u001b[0mrot\u001b[0m \u001b[1;33m=\u001b[0m \u001b[0mRotFromVec\u001b[0m\u001b[1;33m(\u001b[0m\u001b[1;33m[\u001b[0m\u001b[0mc\u001b[0m\u001b[1;33m[\u001b[0m\u001b[1;36m0\u001b[0m\u001b[1;33m]\u001b[0m \u001b[1;33m-\u001b[0m \u001b[0my\u001b[0m\u001b[1;33m[\u001b[0m\u001b[1;36m0\u001b[0m\u001b[1;33m]\u001b[0m\u001b[1;33m,\u001b[0m \u001b[0mc\u001b[0m\u001b[1;33m[\u001b[0m\u001b[1;36m1\u001b[0m\u001b[1;33m]\u001b[0m \u001b[1;33m-\u001b[0m \u001b[0my\u001b[0m\u001b[1;33m[\u001b[0m\u001b[1;36m1\u001b[0m\u001b[1;33m]\u001b[0m\u001b[1;33m,\u001b[0m \u001b[0mc\u001b[0m\u001b[1;33m[\u001b[0m\u001b[1;36m2\u001b[0m\u001b[1;33m]\u001b[0m \u001b[1;33m-\u001b[0m \u001b[0my\u001b[0m\u001b[1;33m[\u001b[0m\u001b[1;36m2\u001b[0m\u001b[1;33m]\u001b[0m\u001b[1;33m]\u001b[0m\u001b[1;33m)\u001b[0m\u001b[1;33m\u001b[0m\u001b[1;33m\u001b[0m\u001b[0m\n\u001b[0m\u001b[0;32m      3\u001b[0m \u001b[0mOldQuat\u001b[0m \u001b[1;33m=\u001b[0m \u001b[0mUnrealsModifierQuat\u001b[0m\u001b[1;33m*\u001b[0m\u001b[0mQuatFromRot\u001b[0m\u001b[1;33m(\u001b[0m\u001b[0mrot\u001b[0m\u001b[1;33m)\u001b[0m\u001b[1;33m\u001b[0m\u001b[1;33m\u001b[0m\u001b[0m\n\u001b[0;32m      4\u001b[0m \u001b[1;33m\u001b[0m\u001b[0m\n\u001b[0;32m      5\u001b[0m \u001b[0mProjectWorldLocationToScreen\u001b[0m\u001b[1;33m(\u001b[0m\u001b[0mPoints\u001b[0m\u001b[1;33m[\u001b[0m\u001b[1;36m1\u001b[0m\u001b[1;33m]\u001b[0m\u001b[1;33m,\u001b[0m \u001b[0my\u001b[0m\u001b[1;33m,\u001b[0m \u001b[0mOldQuat\u001b[0m\u001b[1;33m)\u001b[0m\u001b[1;33m\u001b[0m\u001b[1;33m\u001b[0m\u001b[0m\n",
      "\u001b[1;31mNameError\u001b[0m: name 'y' is not defined"
     ]
    }
   ],
   "source": [
    "c = PointsCenter\n",
    "rot = RotFromVec([c[0] - y[0], c[1] - y[1], c[2] - y[2]])\n",
    "OldQuat = UnrealsModifierQuat*QuatFromRot(rot)\n",
    "\n",
    "ProjectWorldLocationToScreen(Points[1], y, OldQuat)\n",
    "#SumDifferenceWithOrientation([684.0575483,  -231.87961921,  188.89734238], [])"
   ]
  },
  {
   "cell_type": "code",
   "execution_count": 12,
   "metadata": {},
   "outputs": [
    {
     "name": "stdout",
     "output_type": "stream",
     "text": [
      "Point not in view\n"
     ]
    }
   ],
   "source": [
    "pos = ProjectWorldLocationToScreen([474, -900, -41], [-700, 900, 0], ForwardStartingQuat)\n",
    "if (pos):\n",
    "    print(pos)\n",
    "else:\n",
    "    print(\"Point not in view\")"
   ]
  },
  {
   "cell_type": "code",
   "execution_count": 14,
   "metadata": {
    "scrolled": false
   },
   "outputs": [
    {
     "data": {
      "application/vnd.plotly.v1+json": {
       "config": {
        "plotlyServerURL": "https://plot.ly"
       },
       "data": [
        {
         "hoverlabel": {
          "namelength": 0
         },
         "hovertemplate": "x=%{x}<br>y=%{y}<br>z=%{z}",
         "legendgroup": "",
         "marker": {
          "color": "#636efa",
          "symbol": "circle"
         },
         "mode": "markers",
         "name": "",
         "scene": "scene",
         "showlegend": false,
         "type": "scatter3d",
         "x": [
          462,
          1000,
          462,
          413,
          513,
          465
         ],
         "y": [
          -310,
          -234.653137,
          -56,
          -67,
          220,
          -1300
         ],
         "z": [
          19,
          -100,
          81,
          19,
          19,
          200
         ]
        }
       ],
       "layout": {
        "height": 600,
        "legend": {
         "tracegroupgap": 0
        },
        "margin": {
         "t": 60
        },
        "scene": {
         "domain": {
          "x": [
           0,
           0.98
          ],
          "y": [
           0,
           1
          ]
         },
         "xaxis": {
          "title": {
           "text": "x"
          }
         },
         "yaxis": {
          "title": {
           "text": "y"
          }
         },
         "zaxis": {
          "title": {
           "text": "z"
          }
         }
        },
        "template": {
         "data": {
          "bar": [
           {
            "error_x": {
             "color": "#2a3f5f"
            },
            "error_y": {
             "color": "#2a3f5f"
            },
            "marker": {
             "line": {
              "color": "#E5ECF6",
              "width": 0.5
             }
            },
            "type": "bar"
           }
          ],
          "barpolar": [
           {
            "marker": {
             "line": {
              "color": "#E5ECF6",
              "width": 0.5
             }
            },
            "type": "barpolar"
           }
          ],
          "carpet": [
           {
            "aaxis": {
             "endlinecolor": "#2a3f5f",
             "gridcolor": "white",
             "linecolor": "white",
             "minorgridcolor": "white",
             "startlinecolor": "#2a3f5f"
            },
            "baxis": {
             "endlinecolor": "#2a3f5f",
             "gridcolor": "white",
             "linecolor": "white",
             "minorgridcolor": "white",
             "startlinecolor": "#2a3f5f"
            },
            "type": "carpet"
           }
          ],
          "choropleth": [
           {
            "colorbar": {
             "outlinewidth": 0,
             "ticks": ""
            },
            "type": "choropleth"
           }
          ],
          "contour": [
           {
            "colorbar": {
             "outlinewidth": 0,
             "ticks": ""
            },
            "colorscale": [
             [
              0,
              "#0d0887"
             ],
             [
              0.1111111111111111,
              "#46039f"
             ],
             [
              0.2222222222222222,
              "#7201a8"
             ],
             [
              0.3333333333333333,
              "#9c179e"
             ],
             [
              0.4444444444444444,
              "#bd3786"
             ],
             [
              0.5555555555555556,
              "#d8576b"
             ],
             [
              0.6666666666666666,
              "#ed7953"
             ],
             [
              0.7777777777777778,
              "#fb9f3a"
             ],
             [
              0.8888888888888888,
              "#fdca26"
             ],
             [
              1,
              "#f0f921"
             ]
            ],
            "type": "contour"
           }
          ],
          "contourcarpet": [
           {
            "colorbar": {
             "outlinewidth": 0,
             "ticks": ""
            },
            "type": "contourcarpet"
           }
          ],
          "heatmap": [
           {
            "colorbar": {
             "outlinewidth": 0,
             "ticks": ""
            },
            "colorscale": [
             [
              0,
              "#0d0887"
             ],
             [
              0.1111111111111111,
              "#46039f"
             ],
             [
              0.2222222222222222,
              "#7201a8"
             ],
             [
              0.3333333333333333,
              "#9c179e"
             ],
             [
              0.4444444444444444,
              "#bd3786"
             ],
             [
              0.5555555555555556,
              "#d8576b"
             ],
             [
              0.6666666666666666,
              "#ed7953"
             ],
             [
              0.7777777777777778,
              "#fb9f3a"
             ],
             [
              0.8888888888888888,
              "#fdca26"
             ],
             [
              1,
              "#f0f921"
             ]
            ],
            "type": "heatmap"
           }
          ],
          "heatmapgl": [
           {
            "colorbar": {
             "outlinewidth": 0,
             "ticks": ""
            },
            "colorscale": [
             [
              0,
              "#0d0887"
             ],
             [
              0.1111111111111111,
              "#46039f"
             ],
             [
              0.2222222222222222,
              "#7201a8"
             ],
             [
              0.3333333333333333,
              "#9c179e"
             ],
             [
              0.4444444444444444,
              "#bd3786"
             ],
             [
              0.5555555555555556,
              "#d8576b"
             ],
             [
              0.6666666666666666,
              "#ed7953"
             ],
             [
              0.7777777777777778,
              "#fb9f3a"
             ],
             [
              0.8888888888888888,
              "#fdca26"
             ],
             [
              1,
              "#f0f921"
             ]
            ],
            "type": "heatmapgl"
           }
          ],
          "histogram": [
           {
            "marker": {
             "colorbar": {
              "outlinewidth": 0,
              "ticks": ""
             }
            },
            "type": "histogram"
           }
          ],
          "histogram2d": [
           {
            "colorbar": {
             "outlinewidth": 0,
             "ticks": ""
            },
            "colorscale": [
             [
              0,
              "#0d0887"
             ],
             [
              0.1111111111111111,
              "#46039f"
             ],
             [
              0.2222222222222222,
              "#7201a8"
             ],
             [
              0.3333333333333333,
              "#9c179e"
             ],
             [
              0.4444444444444444,
              "#bd3786"
             ],
             [
              0.5555555555555556,
              "#d8576b"
             ],
             [
              0.6666666666666666,
              "#ed7953"
             ],
             [
              0.7777777777777778,
              "#fb9f3a"
             ],
             [
              0.8888888888888888,
              "#fdca26"
             ],
             [
              1,
              "#f0f921"
             ]
            ],
            "type": "histogram2d"
           }
          ],
          "histogram2dcontour": [
           {
            "colorbar": {
             "outlinewidth": 0,
             "ticks": ""
            },
            "colorscale": [
             [
              0,
              "#0d0887"
             ],
             [
              0.1111111111111111,
              "#46039f"
             ],
             [
              0.2222222222222222,
              "#7201a8"
             ],
             [
              0.3333333333333333,
              "#9c179e"
             ],
             [
              0.4444444444444444,
              "#bd3786"
             ],
             [
              0.5555555555555556,
              "#d8576b"
             ],
             [
              0.6666666666666666,
              "#ed7953"
             ],
             [
              0.7777777777777778,
              "#fb9f3a"
             ],
             [
              0.8888888888888888,
              "#fdca26"
             ],
             [
              1,
              "#f0f921"
             ]
            ],
            "type": "histogram2dcontour"
           }
          ],
          "mesh3d": [
           {
            "colorbar": {
             "outlinewidth": 0,
             "ticks": ""
            },
            "type": "mesh3d"
           }
          ],
          "parcoords": [
           {
            "line": {
             "colorbar": {
              "outlinewidth": 0,
              "ticks": ""
             }
            },
            "type": "parcoords"
           }
          ],
          "scatter": [
           {
            "marker": {
             "colorbar": {
              "outlinewidth": 0,
              "ticks": ""
             }
            },
            "type": "scatter"
           }
          ],
          "scatter3d": [
           {
            "line": {
             "colorbar": {
              "outlinewidth": 0,
              "ticks": ""
             }
            },
            "marker": {
             "colorbar": {
              "outlinewidth": 0,
              "ticks": ""
             }
            },
            "type": "scatter3d"
           }
          ],
          "scattercarpet": [
           {
            "marker": {
             "colorbar": {
              "outlinewidth": 0,
              "ticks": ""
             }
            },
            "type": "scattercarpet"
           }
          ],
          "scattergeo": [
           {
            "marker": {
             "colorbar": {
              "outlinewidth": 0,
              "ticks": ""
             }
            },
            "type": "scattergeo"
           }
          ],
          "scattergl": [
           {
            "marker": {
             "colorbar": {
              "outlinewidth": 0,
              "ticks": ""
             }
            },
            "type": "scattergl"
           }
          ],
          "scattermapbox": [
           {
            "marker": {
             "colorbar": {
              "outlinewidth": 0,
              "ticks": ""
             }
            },
            "type": "scattermapbox"
           }
          ],
          "scatterpolar": [
           {
            "marker": {
             "colorbar": {
              "outlinewidth": 0,
              "ticks": ""
             }
            },
            "type": "scatterpolar"
           }
          ],
          "scatterpolargl": [
           {
            "marker": {
             "colorbar": {
              "outlinewidth": 0,
              "ticks": ""
             }
            },
            "type": "scatterpolargl"
           }
          ],
          "scatterternary": [
           {
            "marker": {
             "colorbar": {
              "outlinewidth": 0,
              "ticks": ""
             }
            },
            "type": "scatterternary"
           }
          ],
          "surface": [
           {
            "colorbar": {
             "outlinewidth": 0,
             "ticks": ""
            },
            "colorscale": [
             [
              0,
              "#0d0887"
             ],
             [
              0.1111111111111111,
              "#46039f"
             ],
             [
              0.2222222222222222,
              "#7201a8"
             ],
             [
              0.3333333333333333,
              "#9c179e"
             ],
             [
              0.4444444444444444,
              "#bd3786"
             ],
             [
              0.5555555555555556,
              "#d8576b"
             ],
             [
              0.6666666666666666,
              "#ed7953"
             ],
             [
              0.7777777777777778,
              "#fb9f3a"
             ],
             [
              0.8888888888888888,
              "#fdca26"
             ],
             [
              1,
              "#f0f921"
             ]
            ],
            "type": "surface"
           }
          ],
          "table": [
           {
            "cells": {
             "fill": {
              "color": "#EBF0F8"
             },
             "line": {
              "color": "white"
             }
            },
            "header": {
             "fill": {
              "color": "#C8D4E3"
             },
             "line": {
              "color": "white"
             }
            },
            "type": "table"
           }
          ]
         },
         "layout": {
          "annotationdefaults": {
           "arrowcolor": "#2a3f5f",
           "arrowhead": 0,
           "arrowwidth": 1
          },
          "colorscale": {
           "diverging": [
            [
             0,
             "#8e0152"
            ],
            [
             0.1,
             "#c51b7d"
            ],
            [
             0.2,
             "#de77ae"
            ],
            [
             0.3,
             "#f1b6da"
            ],
            [
             0.4,
             "#fde0ef"
            ],
            [
             0.5,
             "#f7f7f7"
            ],
            [
             0.6,
             "#e6f5d0"
            ],
            [
             0.7,
             "#b8e186"
            ],
            [
             0.8,
             "#7fbc41"
            ],
            [
             0.9,
             "#4d9221"
            ],
            [
             1,
             "#276419"
            ]
           ],
           "sequential": [
            [
             0,
             "#0d0887"
            ],
            [
             0.1111111111111111,
             "#46039f"
            ],
            [
             0.2222222222222222,
             "#7201a8"
            ],
            [
             0.3333333333333333,
             "#9c179e"
            ],
            [
             0.4444444444444444,
             "#bd3786"
            ],
            [
             0.5555555555555556,
             "#d8576b"
            ],
            [
             0.6666666666666666,
             "#ed7953"
            ],
            [
             0.7777777777777778,
             "#fb9f3a"
            ],
            [
             0.8888888888888888,
             "#fdca26"
            ],
            [
             1,
             "#f0f921"
            ]
           ],
           "sequentialminus": [
            [
             0,
             "#0d0887"
            ],
            [
             0.1111111111111111,
             "#46039f"
            ],
            [
             0.2222222222222222,
             "#7201a8"
            ],
            [
             0.3333333333333333,
             "#9c179e"
            ],
            [
             0.4444444444444444,
             "#bd3786"
            ],
            [
             0.5555555555555556,
             "#d8576b"
            ],
            [
             0.6666666666666666,
             "#ed7953"
            ],
            [
             0.7777777777777778,
             "#fb9f3a"
            ],
            [
             0.8888888888888888,
             "#fdca26"
            ],
            [
             1,
             "#f0f921"
            ]
           ]
          },
          "colorway": [
           "#636efa",
           "#EF553B",
           "#00cc96",
           "#ab63fa",
           "#FFA15A",
           "#19d3f3",
           "#FF6692",
           "#B6E880",
           "#FF97FF",
           "#FECB52"
          ],
          "font": {
           "color": "#2a3f5f"
          },
          "geo": {
           "bgcolor": "white",
           "lakecolor": "white",
           "landcolor": "#E5ECF6",
           "showlakes": true,
           "showland": true,
           "subunitcolor": "white"
          },
          "hoverlabel": {
           "align": "left"
          },
          "hovermode": "closest",
          "mapbox": {
           "style": "light"
          },
          "paper_bgcolor": "white",
          "plot_bgcolor": "#E5ECF6",
          "polar": {
           "angularaxis": {
            "gridcolor": "white",
            "linecolor": "white",
            "ticks": ""
           },
           "bgcolor": "#E5ECF6",
           "radialaxis": {
            "gridcolor": "white",
            "linecolor": "white",
            "ticks": ""
           }
          },
          "scene": {
           "xaxis": {
            "backgroundcolor": "#E5ECF6",
            "gridcolor": "white",
            "gridwidth": 2,
            "linecolor": "white",
            "showbackground": true,
            "ticks": "",
            "zerolinecolor": "white"
           },
           "yaxis": {
            "backgroundcolor": "#E5ECF6",
            "gridcolor": "white",
            "gridwidth": 2,
            "linecolor": "white",
            "showbackground": true,
            "ticks": "",
            "zerolinecolor": "white"
           },
           "zaxis": {
            "backgroundcolor": "#E5ECF6",
            "gridcolor": "white",
            "gridwidth": 2,
            "linecolor": "white",
            "showbackground": true,
            "ticks": "",
            "zerolinecolor": "white"
           }
          },
          "shapedefaults": {
           "line": {
            "color": "#2a3f5f"
           }
          },
          "ternary": {
           "aaxis": {
            "gridcolor": "white",
            "linecolor": "white",
            "ticks": ""
           },
           "baxis": {
            "gridcolor": "white",
            "linecolor": "white",
            "ticks": ""
           },
           "bgcolor": "#E5ECF6",
           "caxis": {
            "gridcolor": "white",
            "linecolor": "white",
            "ticks": ""
           }
          },
          "title": {
           "x": 0.05
          },
          "xaxis": {
           "automargin": true,
           "gridcolor": "white",
           "linecolor": "white",
           "ticks": "",
           "zerolinecolor": "white",
           "zerolinewidth": 2
          },
          "yaxis": {
           "automargin": true,
           "gridcolor": "white",
           "linecolor": "white",
           "ticks": "",
           "zerolinecolor": "white",
           "zerolinewidth": 2
          }
         }
        }
       }
      },
      "text/html": [
       "<div>\n",
       "        \n",
       "        \n",
       "            <div id=\"9891ed81-1811-4d08-9a5c-f7c862ce1d33\" class=\"plotly-graph-div\" style=\"height:600px; width:100%;\"></div>\n",
       "            <script type=\"text/javascript\">\n",
       "                require([\"plotly\"], function(Plotly) {\n",
       "                    window.PLOTLYENV=window.PLOTLYENV || {};\n",
       "                    \n",
       "                if (document.getElementById(\"9891ed81-1811-4d08-9a5c-f7c862ce1d33\")) {\n",
       "                    Plotly.newPlot(\n",
       "                        '9891ed81-1811-4d08-9a5c-f7c862ce1d33',\n",
       "                        [{\"hoverlabel\": {\"namelength\": 0}, \"hovertemplate\": \"x=%{x}<br>y=%{y}<br>z=%{z}\", \"legendgroup\": \"\", \"marker\": {\"color\": \"#636efa\", \"symbol\": \"circle\"}, \"mode\": \"markers\", \"name\": \"\", \"scene\": \"scene\", \"showlegend\": false, \"type\": \"scatter3d\", \"x\": [462.0, 1000.0, 462.0, 413.0, 513.0, 465.0], \"y\": [-310.0, -234.653137, -56.0, -67.0, 220.0, -1300.0], \"z\": [19, -100, 81, 19, 19, 200]}],\n",
       "                        {\"height\": 600, \"legend\": {\"tracegroupgap\": 0}, \"margin\": {\"t\": 60}, \"scene\": {\"domain\": {\"x\": [0.0, 0.98], \"y\": [0.0, 1.0]}, \"xaxis\": {\"title\": {\"text\": \"x\"}}, \"yaxis\": {\"title\": {\"text\": \"y\"}}, \"zaxis\": {\"title\": {\"text\": \"z\"}}}, \"template\": {\"data\": {\"bar\": [{\"error_x\": {\"color\": \"#2a3f5f\"}, \"error_y\": {\"color\": \"#2a3f5f\"}, \"marker\": {\"line\": {\"color\": \"#E5ECF6\", \"width\": 0.5}}, \"type\": \"bar\"}], \"barpolar\": [{\"marker\": {\"line\": {\"color\": \"#E5ECF6\", \"width\": 0.5}}, \"type\": \"barpolar\"}], \"carpet\": [{\"aaxis\": {\"endlinecolor\": \"#2a3f5f\", \"gridcolor\": \"white\", \"linecolor\": \"white\", \"minorgridcolor\": \"white\", \"startlinecolor\": \"#2a3f5f\"}, \"baxis\": {\"endlinecolor\": \"#2a3f5f\", \"gridcolor\": \"white\", \"linecolor\": \"white\", \"minorgridcolor\": \"white\", \"startlinecolor\": \"#2a3f5f\"}, \"type\": \"carpet\"}], \"choropleth\": [{\"colorbar\": {\"outlinewidth\": 0, \"ticks\": \"\"}, \"type\": \"choropleth\"}], \"contour\": [{\"colorbar\": {\"outlinewidth\": 0, \"ticks\": \"\"}, \"colorscale\": [[0.0, \"#0d0887\"], [0.1111111111111111, \"#46039f\"], [0.2222222222222222, \"#7201a8\"], [0.3333333333333333, \"#9c179e\"], [0.4444444444444444, \"#bd3786\"], [0.5555555555555556, \"#d8576b\"], [0.6666666666666666, \"#ed7953\"], [0.7777777777777778, \"#fb9f3a\"], [0.8888888888888888, \"#fdca26\"], [1.0, \"#f0f921\"]], \"type\": \"contour\"}], \"contourcarpet\": [{\"colorbar\": {\"outlinewidth\": 0, \"ticks\": \"\"}, \"type\": \"contourcarpet\"}], \"heatmap\": [{\"colorbar\": {\"outlinewidth\": 0, \"ticks\": \"\"}, \"colorscale\": [[0.0, \"#0d0887\"], [0.1111111111111111, \"#46039f\"], [0.2222222222222222, \"#7201a8\"], [0.3333333333333333, \"#9c179e\"], [0.4444444444444444, \"#bd3786\"], [0.5555555555555556, \"#d8576b\"], [0.6666666666666666, \"#ed7953\"], [0.7777777777777778, \"#fb9f3a\"], [0.8888888888888888, \"#fdca26\"], [1.0, \"#f0f921\"]], \"type\": \"heatmap\"}], \"heatmapgl\": [{\"colorbar\": {\"outlinewidth\": 0, \"ticks\": \"\"}, \"colorscale\": [[0.0, \"#0d0887\"], [0.1111111111111111, \"#46039f\"], [0.2222222222222222, \"#7201a8\"], [0.3333333333333333, \"#9c179e\"], [0.4444444444444444, \"#bd3786\"], [0.5555555555555556, \"#d8576b\"], [0.6666666666666666, \"#ed7953\"], [0.7777777777777778, \"#fb9f3a\"], [0.8888888888888888, \"#fdca26\"], [1.0, \"#f0f921\"]], \"type\": \"heatmapgl\"}], \"histogram\": [{\"marker\": {\"colorbar\": {\"outlinewidth\": 0, \"ticks\": \"\"}}, \"type\": \"histogram\"}], \"histogram2d\": [{\"colorbar\": {\"outlinewidth\": 0, \"ticks\": \"\"}, \"colorscale\": [[0.0, \"#0d0887\"], [0.1111111111111111, \"#46039f\"], [0.2222222222222222, \"#7201a8\"], [0.3333333333333333, \"#9c179e\"], [0.4444444444444444, \"#bd3786\"], [0.5555555555555556, \"#d8576b\"], [0.6666666666666666, \"#ed7953\"], [0.7777777777777778, \"#fb9f3a\"], [0.8888888888888888, \"#fdca26\"], [1.0, \"#f0f921\"]], \"type\": \"histogram2d\"}], \"histogram2dcontour\": [{\"colorbar\": {\"outlinewidth\": 0, \"ticks\": \"\"}, \"colorscale\": [[0.0, \"#0d0887\"], [0.1111111111111111, \"#46039f\"], [0.2222222222222222, \"#7201a8\"], [0.3333333333333333, \"#9c179e\"], [0.4444444444444444, \"#bd3786\"], [0.5555555555555556, \"#d8576b\"], [0.6666666666666666, \"#ed7953\"], [0.7777777777777778, \"#fb9f3a\"], [0.8888888888888888, \"#fdca26\"], [1.0, \"#f0f921\"]], \"type\": \"histogram2dcontour\"}], \"mesh3d\": [{\"colorbar\": {\"outlinewidth\": 0, \"ticks\": \"\"}, \"type\": \"mesh3d\"}], \"parcoords\": [{\"line\": {\"colorbar\": {\"outlinewidth\": 0, \"ticks\": \"\"}}, \"type\": \"parcoords\"}], \"scatter\": [{\"marker\": {\"colorbar\": {\"outlinewidth\": 0, \"ticks\": \"\"}}, \"type\": \"scatter\"}], \"scatter3d\": [{\"line\": {\"colorbar\": {\"outlinewidth\": 0, \"ticks\": \"\"}}, \"marker\": {\"colorbar\": {\"outlinewidth\": 0, \"ticks\": \"\"}}, \"type\": \"scatter3d\"}], \"scattercarpet\": [{\"marker\": {\"colorbar\": {\"outlinewidth\": 0, \"ticks\": \"\"}}, \"type\": \"scattercarpet\"}], \"scattergeo\": [{\"marker\": {\"colorbar\": {\"outlinewidth\": 0, \"ticks\": \"\"}}, \"type\": \"scattergeo\"}], \"scattergl\": [{\"marker\": {\"colorbar\": {\"outlinewidth\": 0, \"ticks\": \"\"}}, \"type\": \"scattergl\"}], \"scattermapbox\": [{\"marker\": {\"colorbar\": {\"outlinewidth\": 0, \"ticks\": \"\"}}, \"type\": \"scattermapbox\"}], \"scatterpolar\": [{\"marker\": {\"colorbar\": {\"outlinewidth\": 0, \"ticks\": \"\"}}, \"type\": \"scatterpolar\"}], \"scatterpolargl\": [{\"marker\": {\"colorbar\": {\"outlinewidth\": 0, \"ticks\": \"\"}}, \"type\": \"scatterpolargl\"}], \"scatterternary\": [{\"marker\": {\"colorbar\": {\"outlinewidth\": 0, \"ticks\": \"\"}}, \"type\": \"scatterternary\"}], \"surface\": [{\"colorbar\": {\"outlinewidth\": 0, \"ticks\": \"\"}, \"colorscale\": [[0.0, \"#0d0887\"], [0.1111111111111111, \"#46039f\"], [0.2222222222222222, \"#7201a8\"], [0.3333333333333333, \"#9c179e\"], [0.4444444444444444, \"#bd3786\"], [0.5555555555555556, \"#d8576b\"], [0.6666666666666666, \"#ed7953\"], [0.7777777777777778, \"#fb9f3a\"], [0.8888888888888888, \"#fdca26\"], [1.0, \"#f0f921\"]], \"type\": \"surface\"}], \"table\": [{\"cells\": {\"fill\": {\"color\": \"#EBF0F8\"}, \"line\": {\"color\": \"white\"}}, \"header\": {\"fill\": {\"color\": \"#C8D4E3\"}, \"line\": {\"color\": \"white\"}}, \"type\": \"table\"}]}, \"layout\": {\"annotationdefaults\": {\"arrowcolor\": \"#2a3f5f\", \"arrowhead\": 0, \"arrowwidth\": 1}, \"colorscale\": {\"diverging\": [[0, \"#8e0152\"], [0.1, \"#c51b7d\"], [0.2, \"#de77ae\"], [0.3, \"#f1b6da\"], [0.4, \"#fde0ef\"], [0.5, \"#f7f7f7\"], [0.6, \"#e6f5d0\"], [0.7, \"#b8e186\"], [0.8, \"#7fbc41\"], [0.9, \"#4d9221\"], [1, \"#276419\"]], \"sequential\": [[0.0, \"#0d0887\"], [0.1111111111111111, \"#46039f\"], [0.2222222222222222, \"#7201a8\"], [0.3333333333333333, \"#9c179e\"], [0.4444444444444444, \"#bd3786\"], [0.5555555555555556, \"#d8576b\"], [0.6666666666666666, \"#ed7953\"], [0.7777777777777778, \"#fb9f3a\"], [0.8888888888888888, \"#fdca26\"], [1.0, \"#f0f921\"]], \"sequentialminus\": [[0.0, \"#0d0887\"], [0.1111111111111111, \"#46039f\"], [0.2222222222222222, \"#7201a8\"], [0.3333333333333333, \"#9c179e\"], [0.4444444444444444, \"#bd3786\"], [0.5555555555555556, \"#d8576b\"], [0.6666666666666666, \"#ed7953\"], [0.7777777777777778, \"#fb9f3a\"], [0.8888888888888888, \"#fdca26\"], [1.0, \"#f0f921\"]]}, \"colorway\": [\"#636efa\", \"#EF553B\", \"#00cc96\", \"#ab63fa\", \"#FFA15A\", \"#19d3f3\", \"#FF6692\", \"#B6E880\", \"#FF97FF\", \"#FECB52\"], \"font\": {\"color\": \"#2a3f5f\"}, \"geo\": {\"bgcolor\": \"white\", \"lakecolor\": \"white\", \"landcolor\": \"#E5ECF6\", \"showlakes\": true, \"showland\": true, \"subunitcolor\": \"white\"}, \"hoverlabel\": {\"align\": \"left\"}, \"hovermode\": \"closest\", \"mapbox\": {\"style\": \"light\"}, \"paper_bgcolor\": \"white\", \"plot_bgcolor\": \"#E5ECF6\", \"polar\": {\"angularaxis\": {\"gridcolor\": \"white\", \"linecolor\": \"white\", \"ticks\": \"\"}, \"bgcolor\": \"#E5ECF6\", \"radialaxis\": {\"gridcolor\": \"white\", \"linecolor\": \"white\", \"ticks\": \"\"}}, \"scene\": {\"xaxis\": {\"backgroundcolor\": \"#E5ECF6\", \"gridcolor\": \"white\", \"gridwidth\": 2, \"linecolor\": \"white\", \"showbackground\": true, \"ticks\": \"\", \"zerolinecolor\": \"white\"}, \"yaxis\": {\"backgroundcolor\": \"#E5ECF6\", \"gridcolor\": \"white\", \"gridwidth\": 2, \"linecolor\": \"white\", \"showbackground\": true, \"ticks\": \"\", \"zerolinecolor\": \"white\"}, \"zaxis\": {\"backgroundcolor\": \"#E5ECF6\", \"gridcolor\": \"white\", \"gridwidth\": 2, \"linecolor\": \"white\", \"showbackground\": true, \"ticks\": \"\", \"zerolinecolor\": \"white\"}}, \"shapedefaults\": {\"line\": {\"color\": \"#2a3f5f\"}}, \"ternary\": {\"aaxis\": {\"gridcolor\": \"white\", \"linecolor\": \"white\", \"ticks\": \"\"}, \"baxis\": {\"gridcolor\": \"white\", \"linecolor\": \"white\", \"ticks\": \"\"}, \"bgcolor\": \"#E5ECF6\", \"caxis\": {\"gridcolor\": \"white\", \"linecolor\": \"white\", \"ticks\": \"\"}}, \"title\": {\"x\": 0.05}, \"xaxis\": {\"automargin\": true, \"gridcolor\": \"white\", \"linecolor\": \"white\", \"ticks\": \"\", \"zerolinecolor\": \"white\", \"zerolinewidth\": 2}, \"yaxis\": {\"automargin\": true, \"gridcolor\": \"white\", \"linecolor\": \"white\", \"ticks\": \"\", \"zerolinecolor\": \"white\", \"zerolinewidth\": 2}}}},\n",
       "                        {\"responsive\": true}\n",
       "                    ).then(function(){\n",
       "                            \n",
       "var gd = document.getElementById('9891ed81-1811-4d08-9a5c-f7c862ce1d33');\n",
       "var x = new MutationObserver(function (mutations, observer) {{\n",
       "        var display = window.getComputedStyle(gd).display;\n",
       "        if (!display || display === 'none') {{\n",
       "            console.log([gd, 'removed!']);\n",
       "            Plotly.purge(gd);\n",
       "            observer.disconnect();\n",
       "        }}\n",
       "}});\n",
       "\n",
       "// Listen for the removal of the full notebook cells\n",
       "var notebookContainer = gd.closest('#notebook-container');\n",
       "if (notebookContainer) {{\n",
       "    x.observe(notebookContainer, {childList: true});\n",
       "}}\n",
       "\n",
       "// Listen for the clearing of the current output cell\n",
       "var outputEl = gd.closest('.output');\n",
       "if (outputEl) {{\n",
       "    x.observe(outputEl, {childList: true});\n",
       "}}\n",
       "\n",
       "                        })\n",
       "                };\n",
       "                });\n",
       "            </script>\n",
       "        </div>"
      ]
     },
     "metadata": {},
     "output_type": "display_data"
    }
   ],
   "source": [
    "x = [point[0] for point in Points]\n",
    "y = [point[1] for point in Points]\n",
    "z = [point[2] for point in Points]\n",
    "\n",
    "x.append(CameraPosition[0])\n",
    "y.append(CameraPosition[1])\n",
    "z.append(CameraPosition[2])\n",
    "\n",
    "fig = px.scatter_3d(x=x, y=y, z=z)\n",
    "\n",
    "fig.show()"
   ]
  },
  {
   "cell_type": "code",
   "execution_count": 15,
   "metadata": {},
   "outputs": [
    {
     "name": "stdout",
     "output_type": "stream",
     "text": [
      "[-8.99818528 85.04238959  0.        ]\n",
      "[465, -1300, 200]\n",
      "[579.8118447499716, 206.88722803827952]\n",
      "[321.1974767497841, 292.8002719203444]\n",
      "[579.4534701264757, 203.90141310070058]\n",
      "[600.9002799196861, 234.63609080429075]\n",
      "[562.0247125357074, 257.2205842667228]\n",
      "Lost 0 points\n"
     ]
    },
    {
     "data": {
      "image/png": "[encoded data removed]",
      "text/plain": [
       "<Figure size 432x288 with 1 Axes>"
      ]
     },
     "metadata": {
      "needs_background": "light"
     },
     "output_type": "display_data"
    }
   ],
   "source": [
    "c = PointsCenter\n",
    "rot = RotFromVec([c[0] - CameraPosition[0], c[1] - CameraPosition[1], c[2] - CameraPosition[2]])\n",
    "quat = UnrealsModifierQuat*QuatFromRot(rot)\n",
    "\n",
    "print(np.array(rot)*180.0/math.pi)\n",
    "print(CameraPosition)\n",
    "\n",
    "PlotPoints2D(CameraPosition, quat)"
   ]
  },
  {
   "cell_type": "code",
   "execution_count": 16,
   "metadata": {},
   "outputs": [
    {
     "name": "stdout",
     "output_type": "stream",
     "text": [
      "[4.07883284 9.36447344 0.        ]\n",
      "[-310, -234.653137, -56, -67, 220, -1300]\n",
      "[390.93153566198635, 233.40423423591855]\n",
      "[445.6306807744874, 280.6864674594037]\n",
      "[567.3076646384302, 179.13318541820578]\n",
      "[567.3470041013416, 233.7953846853066]\n",
      "[722.2203690170574, 228.33154914450768]\n",
      "Lost 0 points\n"
     ]
    },
    {
     "data": {
      "image/png": "[encoded data removed]",
      "text/plain": [
       "<Figure size 432x288 with 1 Axes>"
      ]
     },
     "metadata": {
      "needs_background": "light"
     },
     "output_type": "display_data"
    }
   ],
   "source": [
    "c = PointsCenter\n",
    "rot = RotFromVec([c[0] - y[0], c[1] - y[1], c[2] - y[2]])\n",
    "quat = UnrealsModifierQuat*QuatFromRot(rot)\n",
    "\n",
    "print(np.array(rot)*180.0/math.pi)\n",
    "print(y)\n",
    "#late result = -310, -234.653137, -56\n",
    "PlotPoints2D(y, quat)"
   ]
  },
  {
   "cell_type": "code",
   "execution_count": 50,
   "metadata": {},
   "outputs": [
    {
     "name": "stdout",
     "output_type": "stream",
     "text": [
      "[ 3.58675317e+17 -1.40926142e+18  1.19951917e+17]\n",
      "1304.5443182225304\n"
     ]
    }
   ],
   "source": [
    "OldPosition = CameraPosition\n",
    "\n",
    "opt = nlopt.opt(nlopt.LN_NELDERMEAD, 3)\n",
    "opt.set_max_objective(SumDifference)\n",
    "x = opt.optimize(CameraPosition)\n",
    "opt_val = opt.last_optimum_value()\n",
    "\n",
    "print(x)\n",
    "print(opt_val)"
   ]
  },
  {
   "cell_type": "code",
   "execution_count": 58,
   "metadata": {},
   "outputs": [
    {
     "name": "stdout",
     "output_type": "stream",
     "text": [
      "[ 769.77137233 -800.         -104.72922565]\n",
      "1384.351636355586\n",
      "1384.351636355586\n"
     ]
    }
   ],
   "source": [
    "OldPosition = CameraPosition\n",
    "\n",
    "opt = nlopt.opt(nlopt.LN_NELDERMEAD, 3)\n",
    "opt.set_max_objective(SumDifferenceWithOrientation)\n",
    "opt.set_lower_bounds([CameraPosition[0] - 500, CameraPosition[1] - 500, CameraPosition[2] - 500])\n",
    "opt.set_upper_bounds([CameraPosition[0] + 500, CameraPosition[1] + 500, CameraPosition[2] + 500])\n",
    "y = opt.optimize(CameraPosition)\n",
    "val = opt.last_optimum_value()\n",
    "\n",
    "print(y)\n",
    "print(val)\n",
    "print(SumDifferenceWithOrientation(y, []))"
   ]
  },
  {
   "cell_type": "code",
   "execution_count": 18,
   "metadata": {},
   "outputs": [
    {
     "data": {
      "text/plain": [
       "-5"
      ]
     },
     "execution_count": 18,
     "metadata": {},
     "output_type": "execute_result"
    }
   ],
   "source": [
    "opt.last_optimize_result()"
   ]
  },
  {
   "cell_type": "code",
   "execution_count": 59,
   "metadata": {},
   "outputs": [
    {
     "name": "stdout",
     "output_type": "stream",
     "text": [
      "[688.3129271151914, 249.47362633788032]\n",
      "[139.30854545466008, 418.94371553316665]\n",
      "[596.699346863159, 166.57102187843867]\n",
      "[628.9166906876629, 218.21781986920132]\n",
      "[518.3559091563948, 201.40125328745876]\n",
      "Lost 0 points\n"
     ]
    },
    {
     "data": {
      "image/png": "[encoded data removed]",
      "text/plain": [
       "<Figure size 432x288 with 1 Axes>"
      ]
     },
     "metadata": {
      "needs_background": "light"
     },
     "output_type": "display_data"
    }
   ],
   "source": [
    "c = PointsCenter\n",
    "\n",
    "rot = RotFromVec([c[0] - y[0], c[1] - y[1], c[2] - y[2]])\n",
    "quat = UnrealsModifierQuat*QuatFromRot(rot)\n",
    "\n",
    "\n",
    "PlotPoints2D(y, quat)"
   ]
  },
  {
   "cell_type": "code",
   "execution_count": 61,
   "metadata": {},
   "outputs": [
    {
     "name": "stdout",
     "output_type": "stream",
     "text": [
      "[ 1269.77137233 -1300.           395.27077435]\n",
      "1565.5660176395659\n",
      "[614.9244984372289, 216.69463437664612]\n",
      "[387.51903989110036, 246.76578158792609]\n",
      "[559.3021839416583, 220.8693470825758]\n",
      "[575.7914502019082, 248.2465395924946]\n",
      "[500.7318724390577, 268.516320149109]\n",
      "Lost 0 points\n"
     ]
    },
    {
     "data": {
      "image/png": "[encoded data removed]",
      "text/plain": [
       "<Figure size 432x288 with 1 Axes>"
      ]
     },
     "metadata": {
      "needs_background": "light"
     },
     "output_type": "display_data"
    }
   ],
   "source": [
    "OldPosition = y\n",
    "opt.set_lower_bounds([y[0] - 500, y[1] - 500, y[2] - 500])\n",
    "opt.set_upper_bounds([y[0] + 500, y[1] + 500, y[2] + 500])\n",
    "z = opt.optimize(y)\n",
    "zVal = opt.last_optimum_value()\n",
    "\n",
    "print(z)\n",
    "print(zVal)\n",
    "\n",
    "c = PointsCenter\n",
    "\n",
    "rot = RotFromVec([c[0] - z[0], c[1] - z[1], c[2] - z[2]])\n",
    "quat = UnrealsModifierQuat*QuatFromRot(rot)\n",
    "\n",
    "\n",
    "PlotPoints2D(z, quat)"
   ]
  },
  {
   "cell_type": "code",
   "execution_count": 62,
   "metadata": {},
   "outputs": [
    {
     "name": "stdout",
     "output_type": "stream",
     "text": [
      "[1769.77137233 -800.          308.57684167]\n",
      "532.7699400204523\n",
      "[625.3089822086807, 233.7816557151259]\n",
      "[481.3837927794484, 245.70230620067989]\n",
      "[541.9862803052039, 220.74358908180426]\n",
      "[553.5067398131455, 250.0868984775857]\n",
      "[455.60556635640626, 255.19995662867726]\n",
      "Lost 0 points\n"
     ]
    },
    {
     "data": {
      "image/png": "[encoded data removed]",
      "text/plain": [
       "<Figure size 432x288 with 1 Axes>"
      ]
     },
     "metadata": {
      "needs_background": "light"
     },
     "output_type": "display_data"
    }
   ],
   "source": [
    "OldPosition = z\n",
    "opt.set_lower_bounds([z[0] - 500, z[1] - 500, z[2] - 500])\n",
    "opt.set_upper_bounds([z[0] + 500, z[1] + 500, z[2] + 500])\n",
    "w = opt.optimize(z)\n",
    "wVal = opt.last_optimum_value()\n",
    "\n",
    "print(w)\n",
    "print(wVal)\n",
    "\n",
    "c = PointsCenter\n",
    "\n",
    "rot = RotFromVec([c[0] - w[0], c[1] - w[1], c[2] - w[2]])\n",
    "quat = UnrealsModifierQuat*QuatFromRot(rot)\n",
    "\n",
    "\n",
    "PlotPoints2D(w, quat)"
   ]
  },
  {
   "cell_type": "code",
   "execution_count": 40,
   "metadata": {},
   "outputs": [
    {
     "data": {
      "text/plain": [
       "4016.479467578431"
      ]
     },
     "execution_count": 40,
     "metadata": {},
     "output_type": "execute_result"
    }
   ],
   "source": [
    "SumDifferenceWithOrientation(y, [])"
   ]
  },
  {
   "cell_type": "code",
   "execution_count": null,
   "metadata": {},
   "outputs": [],
   "source": []
  }
 ],
 "metadata": {
  "kernelspec": {
   "display_name": "Python 3",
   "language": "python",
   "name": "python3"
  },
  "language_info": {
   "codemirror_mode": {
    "name": "ipython",
    "version": 3
   },
   "file_extension": ".py",
   "mimetype": "text/x-python",
   "name": "python",
   "nbconvert_exporter": "python",
   "pygments_lexer": "ipython3",
   "version": "3.7.5"
  }
 },
 "nbformat": 4,
 "nbformat_minor": 2
}
